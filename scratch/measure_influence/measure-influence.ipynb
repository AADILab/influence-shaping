{
 "cells": [
  {
   "cell_type": "code",
   "execution_count": 29,
   "metadata": {},
   "outputs": [],
   "source": [
    "from pathlib import Path\n",
    "import os\n",
    "import pandas as pd\n",
    "import pickle\n",
    "import numpy as np\n",
    "from influence.plotting import plot_joint_trajectory, PlotArgs"
   ]
  },
  {
   "cell_type": "code",
   "execution_count": 11,
   "metadata": {},
   "outputs": [],
   "source": [
    "# First let's just figure out where everything is\n",
    "base_dir = Path(\n",
    "    os.path.expanduser(\n",
    "        '~/influence-shaping/results/01_05_2025/yabby/31_more_circles/1x1/'\n",
    "    )\n",
    ")\n",
    "difference_dir = base_dir / 'Difference-no-preservation'\n",
    "dynamic_influence_dir = base_dir / 'D-Indirect-Timestep-no-preservation'"
   ]
  },
  {
   "cell_type": "code",
   "execution_count": 12,
   "metadata": {},
   "outputs": [],
   "source": [
    "# At each trial, we need the final joint trajectory, the fitness of that joint trajectory, and the CCEA populations\n",
    "class TrajInfo():\n",
    "    def __init__(self, final_joint_traj_csv: Path, fitness_csv: Path, pkl: Path):\n",
    "        self.df = pd.read_csv(final_joint_traj_csv)\n",
    "        self.fitness = float(pd.read_csv(fitness_csv)['team_fitness_aggregated'].loc[1000])\n",
    "        with open(pkl, \"rb\") as file:\n",
    "            self.population = pickle.load(file)\n",
    "        self.path = final_joint_traj_csv"
   ]
  },
  {
   "cell_type": "code",
   "execution_count": 13,
   "metadata": {},
   "outputs": [],
   "source": [
    "# Round up all the joint trajectories for difference rewards at generation 1,000\n",
    "trial_dirs = [trial_dir for trial_dir in os.listdir(difference_dir) if trial_dir != 'config.yaml']\n",
    "trial_dirs.sort(key = lambda trial_dir : int(trial_dir.split('_')[-1]), reverse=False)\n",
    "trajs = [\n",
    "    TrajInfo(\n",
    "        final_joint_traj_csv = difference_dir / trial_dir / 'gen_1000' / 'eval_team_0_joint_traj.csv',\n",
    "        fitness_csv = difference_dir / trial_dir / 'fitness.csv',\n",
    "        pkl =  difference_dir / trial_dir / 'checkpoint_1000.pkl'\n",
    "    )\n",
    "    for trial_dir in trial_dirs\n",
    "]"
   ]
  },
  {
   "cell_type": "code",
   "execution_count": null,
   "metadata": {},
   "outputs": [
    {
     "name": "stdout",
     "output_type": "stream",
     "text": [
      "/home/gonzaeve/influence-shaping/results/01_05_2025/yabby/31_more_circles/1x1/Difference-no-preservation/trial_25/gen_1000/eval_team_0_joint_traj.csv\n",
      "/home/gonzaeve/influence-shaping/results/01_05_2025/yabby/31_more_circles/1x1/Difference-no-preservation/trial_30/gen_1000/eval_team_0_joint_traj.csv\n",
      "/home/gonzaeve/influence-shaping/results/01_05_2025/yabby/31_more_circles/1x1/Difference-no-preservation/trial_72/gen_1000/eval_team_0_joint_traj.csv\n",
      "/home/gonzaeve/influence-shaping/results/01_05_2025/yabby/31_more_circles/1x1/Difference-no-preservation/trial_78/gen_1000/eval_team_0_joint_traj.csv\n",
      "/home/gonzaeve/influence-shaping/results/01_05_2025/yabby/31_more_circles/1x1/Difference-no-preservation/trial_80/gen_1000/eval_team_0_joint_traj.csv\n",
      "/home/gonzaeve/influence-shaping/results/01_05_2025/yabby/31_more_circles/1x1/Difference-no-preservation/trial_96/gen_1000/eval_team_0_joint_traj.csv\n",
      "/home/gonzaeve/influence-shaping/results/01_05_2025/yabby/31_more_circles/1x1/Difference-no-preservation/trial_118/gen_1000/eval_team_0_joint_traj.csv\n",
      "/home/gonzaeve/influence-shaping/results/01_05_2025/yabby/31_more_circles/1x1/Difference-no-preservation/trial_138/gen_1000/eval_team_0_joint_traj.csv\n",
      "/home/gonzaeve/influence-shaping/results/01_05_2025/yabby/31_more_circles/1x1/Difference-no-preservation/trial_144/gen_1000/eval_team_0_joint_traj.csv\n",
      "/home/gonzaeve/influence-shaping/results/01_05_2025/yabby/31_more_circles/1x1/Difference-no-preservation/trial_145/gen_1000/eval_team_0_joint_traj.csv\n",
      "/home/gonzaeve/influence-shaping/results/01_05_2025/yabby/31_more_circles/1x1/Difference-no-preservation/trial_170/gen_1000/eval_team_0_joint_traj.csv\n",
      "/home/gonzaeve/influence-shaping/results/01_05_2025/yabby/31_more_circles/1x1/Difference-no-preservation/trial_189/gen_1000/eval_team_0_joint_traj.csv\n"
     ]
    }
   ],
   "source": [
    "# For example sake, let's get a few trajectories that performed well\n",
    "for traj in trajs:\n",
    "    if traj.fitness > 0.9:\n",
    "        print(traj.path)"
   ]
  },
  {
   "cell_type": "code",
   "execution_count": null,
   "metadata": {},
   "outputs": [
    {
     "data": {
      "image/png": "[encoded data removed]",
      "text/plain": [
       "<Figure size 640x480 with 1 Axes>"
      ]
     },
     "metadata": {},
     "output_type": "display_data"
    }
   ],
   "source": [
    "# Let's plot one that performed well. Everything matches up\n",
    "plot_joint_trajectory(\n",
    "    joint_traj_dir=trajs[25].path, \n",
    "    individual_colors=False, \n",
    "    no_shading=False, \n",
    "    plot_args=PlotArgs()\n",
    ")"
   ]
  },
  {
   "cell_type": "code",
   "execution_count": 45,
   "metadata": {},
   "outputs": [
    {
     "name": "stdout",
     "output_type": "stream",
     "text": [
      "[1, 1, 1, 1, 1, 0, 1, 1, 1, 1, 1, 1, 1, 1, 1, 1, 1, 1, 1, 1, 1, 1, 1, 1, 1, 1, 1, 1, 1, 1, 1, 1, 1, 1, 1, 1, 0, 0, 0, 0, 0, 0, 0, 0, 0, 0, 0, 0, 0, 0, 0]\n",
      "[0, 0, 0, 0, 0, 0, 0, 0, 0, 0, 0, 0, 0, 0, 0, 0, 0, 0, 0, 0, 0, 0, 0, 0, 0, 0, 0, 0, 0, 0, 0, 0, 0, 0, 0, 0, 0, 0, 0, 0, 0, 0, 0, 0, 0, 0, 0, 0, 0, 0, 0]\n",
      "[0.0, 0.0, 0.0, 0.0, 0.0, 0.20279388230863177, 0.0, 0.20212829941856247, 0.23373810699798084, 0.3325135152243083, 0.3822279330158758, 0.8213612911016014, 0.5541955740029626, 0.7473918087248137, 0.36423257952772153, 0.31672536883406116, 0.24753872497374646, 0.0, 0.0, 0.0, 0.0, 0.0, 0.0, 0.0, 0.0, 0.0, 0.0, 0.0, 0.0, 0.0, 0.0, 0.0, 0.0, 0.0, 0.0, 0.0, 0.0, 0.0, 0.0, 0.0, 0.0, 0.0, 0.0, 0.0, 0.0, 0.0, 0.0, 0.0, 0.0, 0.0, 0.0]\n",
      "0.8213612911016014\n"
     ]
    }
   ],
   "source": [
    "# Let's make some kind of histogram. \n",
    "# For each trajectory, I would like to see how much the rover was influenced by the uav, and vice versa\n",
    "def compute_influence_distance_based(dist, df, two_way=False):\n",
    "    \"\"\" Return two lists. One is the uav's influence on the rover. The other is the rover's influence on the uav\n",
    "    \"\"\"\n",
    "    rover_xs, rover_ys = list(df['rover_0_x']), list(df['rover_0_y'])\n",
    "    rover_path = list(zip(rover_xs, rover_ys))\n",
    "    \n",
    "    uav_xs, uav_ys = list(df['uav_0_x']), list(df['uav_0_y'])\n",
    "    uav_path = list(zip(uav_xs, uav_ys))\n",
    "\n",
    "    uav_to_rover_influence = []\n",
    "    rover_to_uav_influence = []\n",
    "\n",
    "    for rover_position, uav_position in zip(rover_path, uav_path):\n",
    "        measured_distance = np.linalg.norm( np.array(rover_position) - np.array(uav_position) )\n",
    "        if measured_distance <= dist:\n",
    "            uav_to_rover_val = 1\n",
    "        else:\n",
    "            uav_to_rover_val = 0\n",
    "        if two_way:\n",
    "            rover_to_uav_val = uav_to_rover_val\n",
    "        else:\n",
    "            rover_to_uav_val = 0\n",
    "\n",
    "        uav_to_rover_influence.append(uav_to_rover_val)\n",
    "        rover_to_uav_influence.append(rover_to_uav_val)\n",
    "    \n",
    "    return uav_to_rover_influence, rover_to_uav_influence\n",
    "\n",
    "def compute_G_step_based(df, capture_radius=5.0):\n",
    "    \"\"\"Return one list. This list measures the inverse distance of the rover to the poi at each step.\n",
    "    To reconstruct the final trajectory-based G, just take the max of this list\n",
    "    \"\"\"\n",
    "    rover_xs, rover_ys = list(df['rover_0_x']), list(df['rover_0_y'])\n",
    "    rover_path = list(zip(rover_xs, rover_ys))\n",
    "\n",
    "    # The poi doesn't move, but get its position this way for consistency\n",
    "    poi_xs, poi_ys = list(df['hidden_poi_0_x']), list(df['hidden_poi_0_y'])\n",
    "    poi_path = list(zip(poi_xs, poi_ys))\n",
    "\n",
    "    step_based_G = []\n",
    "    for rover_position, poi_position in zip(rover_path, poi_path):\n",
    "        measured_distance = np.linalg.norm( np.array(rover_position) - np.array(poi_position) )\n",
    "        # If it's too close, then pretend the rover is 1 unit away \n",
    "        if measured_distance < 1.0:\n",
    "            measured_distance = 1.0\n",
    "        # Get the score for this time step\n",
    "        if measured_distance <= capture_radius:\n",
    "            score = float(1/measured_distance)\n",
    "        else:\n",
    "            score = 0.\n",
    "        step_based_G.append(score)\n",
    "\n",
    "    return step_based_G\n",
    "\n",
    "# Let's look at the last traj\n",
    "traj = trajs[-1]\n",
    "\n",
    "uav_to_rover_influence, rover_to_uav_influence = compute_influence_distance_based(5.0, traj.df, two_way=False)\n",
    "step_based_G = compute_G_step_based(traj.df)\n",
    "\n",
    "print(uav_to_rover_influence)\n",
    "print(rover_to_uav_influence)\n",
    "\n",
    "print(step_based_G)\n",
    "print(traj.fitness)\n",
    "# Then a histogram of performance\n",
    "\n",
    "# Then some way of connecting the two. Basically trying to show that if there is high influence, then there is a higher probability of high performance\n",
    "# But if there is no influence, then performance is always low"
   ]
  },
  {
   "cell_type": "code",
   "execution_count": null,
   "metadata": {},
   "outputs": [],
   "source": []
  }
 ],
 "metadata": {
  "kernelspec": {
   "display_name": "influence",
   "language": "python",
   "name": "python3"
  },
  "language_info": {
   "codemirror_mode": {
    "name": "ipython",
    "version": 3
   },
   "file_extension": ".py",
   "mimetype": "text/x-python",
   "name": "python",
   "nbconvert_exporter": "python",
   "pygments_lexer": "ipython3",
   "version": "3.10.4"
  }
 },
 "nbformat": 4,
 "nbformat_minor": 2
}
