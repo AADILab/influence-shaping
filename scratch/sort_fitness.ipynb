{
 "cells": [
  {
   "cell_type": "code",
   "execution_count": 1,
   "metadata": {},
   "outputs": [],
   "source": [
    "COMPARISON_NAMES = [\n",
    "    'Global',\n",
    "    'Difference',\n",
    "    'D-Indirect-Traj',\n",
    "    'D-Indirect-Step',\n",
    "    'D-Indirect-Timestep-Local',\n",
    "    'D-Indirect-Timestep-System',\n",
    "    'D-Indirect-Timestep-Difference',\n",
    "    'D-I-Sys-uavs-D-rovers',\n",
    "    'G-uavs-D-rovers'\n",
    "]\n",
    "\n",
    "input_list = [\n",
    "    'G',\n",
    "    'Global',\n",
    "    'D-I-Sys-uavs-D-rovers',\n",
    "    '450',\n",
    "    'D-Indirect-Step',\n",
    "    'ABC',\n",
    "    '43'\n",
    "]"
   ]
  },
  {
   "cell_type": "code",
   "execution_count": 2,
   "metadata": {},
   "outputs": [
    {
     "data": {
      "text/plain": [
       "['Global', 'D-Indirect-Step', 'D-I-Sys-uavs-D-rovers', '43', '450', 'ABC', 'G']"
      ]
     },
     "execution_count": 2,
     "metadata": {},
     "output_type": "execute_result"
    }
   ],
   "source": [
    "def sort_fitness_list(input_list):\n",
    "    # Filter into fitness shaping names and non-fitness shaping names\n",
    "    fit_list = []\n",
    "    nonfit_list = []\n",
    "    for item in input_list:\n",
    "        if item in COMPARISON_NAMES:\n",
    "            fit_list.append(item)\n",
    "        else:\n",
    "            nonfit_list.append(item)\n",
    "    \n",
    "    # Now sort the fitness names so they match the COMPARISON_NAMES list\n",
    "    sorted_fit_list = []\n",
    "    for name in COMPARISON_NAMES:\n",
    "        if name in fit_list:\n",
    "            sorted_fit_list.append(name)\n",
    "\n",
    "    # Sort nonfit list using standard sorting\n",
    "    nonfit_list.sort()\n",
    "\n",
    "    return sorted_fit_list+nonfit_list\n",
    "\n",
    "sort_fitness_list(input_list)"
   ]
  },
  {
   "cell_type": "code",
   "execution_count": null,
   "metadata": {},
   "outputs": [],
   "source": []
  }
 ],
 "metadata": {
  "kernelspec": {
   "display_name": "influence",
   "language": "python",
   "name": "python3"
  },
  "language_info": {
   "codemirror_mode": {
    "name": "ipython",
    "version": 3
   },
   "file_extension": ".py",
   "mimetype": "text/x-python",
   "name": "python",
   "nbconvert_exporter": "python",
   "pygments_lexer": "ipython3",
   "version": "3.10.4"
  }
 },
 "nbformat": 4,
 "nbformat_minor": 2
}
