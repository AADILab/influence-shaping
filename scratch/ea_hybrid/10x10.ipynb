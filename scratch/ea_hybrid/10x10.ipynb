{
 "cells": [
  {
   "cell_type": "code",
   "execution_count": 1,
   "id": "2c0ca685",
   "metadata": {},
   "outputs": [],
   "source": [
    "# Generate a config that is with 10 rovers, 10 pois, 100x100 area (or 10x10 area but with slow rovers)\n",
    "# pois should be randomly scattered around the environment\n",
    "# run 3,000 gens, 10 stat runs"
   ]
  },
  {
   "cell_type": "code",
   "execution_count": 2,
   "id": "bf00a3a0",
   "metadata": {},
   "outputs": [],
   "source": [
    "# Imports\n",
    "import numpy as np"
   ]
  },
  {
   "cell_type": "code",
   "execution_count": null,
   "id": "18c0bb18",
   "metadata": {},
   "outputs": [],
   "source": [
    "# Generate random x,y\n",
    "map_bound = 100\n",
    "num_pois = 10\n",
    "\n",
    "xs = np.random.randint(0, map_bound+1, num_pois).astype(float)\n",
    "ys = np.random.randint(0, map_bound+1, num_pois).astype(float)"
   ]
  },
  {
   "cell_type": "code",
   "execution_count": 12,
   "id": "f14cf43f",
   "metadata": {},
   "outputs": [],
   "source": [
    "def generate_poi_string(x,y):\n",
    "    return \"\"\"    - capture_radius: 100.0\n",
    "      constraint: dense\n",
    "      coupling: 1\n",
    "      observation_radius: 100.0\n",
    "      position:\n",
    "        fixed: [\"\"\"+str(x)+\"\"\",\"\"\"+str(y)+\"\"\"]\n",
    "        spawn_rule: fixed\n",
    "      value: 1.0\n",
    "\"\"\"\n",
    "\n",
    "pois_str = \"\"\n",
    "for x, y in zip(xs, ys):\n",
    "    pois_str += generate_poi_string(x,y)"
   ]
  },
  {
   "cell_type": "code",
   "execution_count": 14,
   "id": "7ca8beea",
   "metadata": {},
   "outputs": [
    {
     "name": "stdout",
     "output_type": "stream",
     "text": [
      "    - capture_radius: 100.0\n",
      "      constraint: dense\n",
      "      coupling: 1\n",
      "      observation_radius: 100.0\n",
      "      position:\n",
      "        fixed: [34.0,83.0]\n",
      "        spawn_rule: fixed\n",
      "      value: 1.0\n",
      "    - capture_radius: 100.0\n",
      "      constraint: dense\n",
      "      coupling: 1\n",
      "      observation_radius: 100.0\n",
      "      position:\n",
      "        fixed: [89.0,78.0]\n",
      "        spawn_rule: fixed\n",
      "      value: 1.0\n",
      "    - capture_radius: 100.0\n",
      "      constraint: dense\n",
      "      coupling: 1\n",
      "      observation_radius: 100.0\n",
      "      position:\n",
      "        fixed: [51.0,17.0]\n",
      "        spawn_rule: fixed\n",
      "      value: 1.0\n",
      "    - capture_radius: 100.0\n",
      "      constraint: dense\n",
      "      coupling: 1\n",
      "      observation_radius: 100.0\n",
      "      position:\n",
      "        fixed: [70.0,52.0]\n",
      "        spawn_rule: fixed\n",
      "      value: 1.0\n",
      "    - capture_radius: 100.0\n",
      "      constraint: dense\n",
      "      coupling: 1\n",
      "      observation_radius: 100.0\n",
      "      position:\n",
      "        fixed: [15.0,68.0]\n",
      "        spawn_rule: fixed\n",
      "      value: 1.0\n",
      "    - capture_radius: 100.0\n",
      "      constraint: dense\n",
      "      coupling: 1\n",
      "      observation_radius: 100.0\n",
      "      position:\n",
      "        fixed: [83.0,87.0]\n",
      "        spawn_rule: fixed\n",
      "      value: 1.0\n",
      "    - capture_radius: 100.0\n",
      "      constraint: dense\n",
      "      coupling: 1\n",
      "      observation_radius: 100.0\n",
      "      position:\n",
      "        fixed: [89.0,32.0]\n",
      "        spawn_rule: fixed\n",
      "      value: 1.0\n",
      "    - capture_radius: 100.0\n",
      "      constraint: dense\n",
      "      coupling: 1\n",
      "      observation_radius: 100.0\n",
      "      position:\n",
      "        fixed: [46.0,41.0]\n",
      "        spawn_rule: fixed\n",
      "      value: 1.0\n",
      "    - capture_radius: 100.0\n",
      "      constraint: dense\n",
      "      coupling: 1\n",
      "      observation_radius: 100.0\n",
      "      position:\n",
      "        fixed: [72.0,4.0]\n",
      "        spawn_rule: fixed\n",
      "      value: 1.0\n",
      "    - capture_radius: 100.0\n",
      "      constraint: dense\n",
      "      coupling: 1\n",
      "      observation_radius: 100.0\n",
      "      position:\n",
      "        fixed: [45.0,5.0]\n",
      "        spawn_rule: fixed\n",
      "      value: 1.0\n",
      "\n"
     ]
    }
   ],
   "source": [
    "print(pois_str)"
   ]
  },
  {
   "cell_type": "code",
   "execution_count": null,
   "id": "aabc6165",
   "metadata": {},
   "outputs": [],
   "source": [
    "# We can guide the crossover using D so that we are selecting specific individuals for crossover\n",
    "# based on their individually good performance\n",
    "# Preserve more elite teams (preserve 50 percent, then use their D values to create the other 50 percent)"
   ]
  }
 ],
 "metadata": {
  "kernelspec": {
   "display_name": "influence",
   "language": "python",
   "name": "python3"
  },
  "language_info": {
   "codemirror_mode": {
    "name": "ipython",
    "version": 3
   },
   "file_extension": ".py",
   "mimetype": "text/x-python",
   "name": "python",
   "nbconvert_exporter": "python",
   "pygments_lexer": "ipython3",
   "version": "3.10.4"
  }
 },
 "nbformat": 4,
 "nbformat_minor": 5
}
