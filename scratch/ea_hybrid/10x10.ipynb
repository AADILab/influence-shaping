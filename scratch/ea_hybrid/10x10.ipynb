{
 "cells": [
  {
   "cell_type": "code",
   "execution_count": 1,
   "id": "2c0ca685",
   "metadata": {},
   "outputs": [],
   "source": [
    "# Generate a config that is with 10 rovers, 10 pois, 100x100 area (or 10x10 area but with slow rovers)\n",
    "# pois should be randomly scattered around the environment\n",
    "# run 3,000 gens, 10 stat runs"
   ]
  },
  {
   "cell_type": "code",
   "execution_count": 2,
   "id": "bf00a3a0",
   "metadata": {},
   "outputs": [],
   "source": [
    "# Imports\n",
    "import numpy as np"
   ]
  },
  {
   "cell_type": "code",
   "execution_count": null,
   "id": "18c0bb18",
   "metadata": {},
   "outputs": [],
   "source": [
    "# Generate random x,y\n",
    "map_bound = 100\n",
    "num_pois = 10\n",
    "\n",
    "xs = np.random.randint(0, map_bound+1, num_pois)\n",
    "ys = np.random.randint(0, map_bound+1, num_pois)\n",
    "\n"
   ]
  }
 ],
 "metadata": {
  "kernelspec": {
   "display_name": "influence",
   "language": "python",
   "name": "python3"
  },
  "language_info": {
   "codemirror_mode": {
    "name": "ipython",
    "version": 3
   },
   "file_extension": ".py",
   "mimetype": "text/x-python",
   "name": "python",
   "nbconvert_exporter": "python",
   "pygments_lexer": "ipython3",
   "version": "3.10.4"
  }
 },
 "nbformat": 4,
 "nbformat_minor": 5
}
