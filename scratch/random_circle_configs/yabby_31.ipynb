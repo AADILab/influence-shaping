{
 "cells": [
  {
   "cell_type": "code",
   "execution_count": 10,
   "metadata": {},
   "outputs": [],
   "source": [
    "NUM_ATOMIC = 3\n",
    "agent_xs = [25.+50.*i for i in range(NUM_ATOMIC)]\n",
    "agent_ys = [15.+50.*i for i in range(NUM_ATOMIC)]\n",
    "map_bounds = [NUM_ATOMIC*50., NUM_ATOMIC*50.]"
   ]
  },
  {
   "cell_type": "code",
   "execution_count": 11,
   "metadata": {},
   "outputs": [
    {
     "data": {
      "text/plain": [
       "[150.0, 150.0]"
      ]
     },
     "execution_count": 11,
     "metadata": {},
     "output_type": "execute_result"
    }
   ],
   "source": [
    "map_bounds"
   ]
  },
  {
   "cell_type": "code",
   "execution_count": 9,
   "metadata": {},
   "outputs": [
    {
     "name": "stdout",
     "output_type": "stream",
     "text": [
      "    agents:\n",
      "      rovers:\n",
      "        - action:\n",
      "            type: dxdy\n",
      "          observation_radius: 5.0\n",
      "          policy:\n",
      "            type: network\n",
      "          position:\n",
      "            fixed:\n",
      "            -  25.0\n",
      "            -  15.0\n",
      "            spawn_rule: fixed\n",
      "          resolution: 90\n",
      "          reward_type: Global\n",
      "          sensor:\n",
      "            accum_type: sum\n",
      "            type: SmartLidar\n",
      "      uavs:\n",
      "        - action:\n",
      "           type: dxdy\n",
      "          observation_radius: 100.0\n",
      "          position:\n",
      "            fixed:\n",
      "            -  25.0\n",
      "            -  15.0\n",
      "            spawn_rule: fixed\n",
      "          resolution: 90\n",
      "          reward_type: Global\n",
      "          sensor:\n",
      "            accum_type: sum\n",
      "            default_value: 0.0\n",
      "            measurement_type: one_minus_inverse_distance_over_observation_radius\n",
      "            type: SmartLidar\n",
      "    pois:\n",
      "      hidden_pois:\n",
      "        - capture_radius: 5.0\n",
      "          constraint: sequential\n",
      "          coupling: 1\n",
      "          observation_radius: 5.0\n",
      "          position:\n",
      "            random_circle:\n",
      "              center: [25.0, 15.0]\n",
      "              radius: 10.0\n",
      "            spawn_rule: random_circle\n",
      "          value: 1.0\n",
      "      rover_pois: []\n"
     ]
    }
   ],
   "source": [
    "print('    agents:')\n",
    "print('      rovers:')\n",
    "for x in agent_xs:\n",
    "    for y in agent_ys:\n",
    "        print('        - action:')\n",
    "        print('            type: dxdy')\n",
    "        print('          observation_radius: 5.0')\n",
    "        print('          policy:')\n",
    "        print('            type: network')\n",
    "        print('          position:')\n",
    "        print('            fixed:')\n",
    "        print('            - ',x)\n",
    "        print('            - ',y)\n",
    "        print('            spawn_rule: fixed')\n",
    "        print('          resolution: 90')\n",
    "        print('          reward_type: Global')\n",
    "        print('          sensor:')\n",
    "        print('            accum_type: sum')\n",
    "        print('            type: SmartLidar')\n",
    "print('      uavs:')\n",
    "for x in agent_xs:\n",
    "    for y in agent_ys:\n",
    "        print('        - action:')\n",
    "        print('           type: dxdy')\n",
    "        print('          observation_radius: 100.0')\n",
    "        print('          position:')\n",
    "        print('            fixed:')\n",
    "        print('            - ',x)\n",
    "        print('            - ',y)\n",
    "        print('            spawn_rule: fixed')\n",
    "        print('          resolution: 90')\n",
    "        print('          reward_type: Global')\n",
    "        print('          sensor:')\n",
    "        print('            accum_type: sum')\n",
    "        print('            default_value: 0.0')\n",
    "        print('            measurement_type: one_minus_inverse_distance_over_observation_radius')\n",
    "        print('            type: SmartLidar')\n",
    "print('    pois:')\n",
    "print('      hidden_pois:')\n",
    "for x in agent_xs:\n",
    "        for y in agent_ys:\n",
    "            print('        - capture_radius: 5.0')\n",
    "            print('          constraint: sequential')\n",
    "            print('          coupling: 1')\n",
    "            print('          observation_radius: 5.0')\n",
    "            print('          position:')\n",
    "            print('            random_circle:')\n",
    "            print(f'              center: [{x}, {y}]')\n",
    "            print('              radius: 10.0')\n",
    "            print('            spawn_rule: random_circle')\n",
    "            print('          value: 1.0')\n",
    "print('      rover_pois: []')"
   ]
  },
  {
   "cell_type": "code",
   "execution_count": null,
   "metadata": {},
   "outputs": [],
   "source": []
  }
 ],
 "metadata": {
  "kernelspec": {
   "display_name": "influence",
   "language": "python",
   "name": "python3"
  },
  "language_info": {
   "codemirror_mode": {
    "name": "ipython",
    "version": 3
   },
   "file_extension": ".py",
   "mimetype": "text/x-python",
   "name": "python",
   "nbconvert_exporter": "python",
   "pygments_lexer": "ipython3",
   "version": "3.10.4"
  }
 },
 "nbformat": 4,
 "nbformat_minor": 2
}
