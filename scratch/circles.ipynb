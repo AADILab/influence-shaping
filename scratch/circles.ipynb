{
 "cells": [
  {
   "cell_type": "code",
   "execution_count": 2,
   "metadata": {},
   "outputs": [],
   "source": [
    "import numpy as np"
   ]
  },
  {
   "cell_type": "code",
   "execution_count": 7,
   "metadata": {},
   "outputs": [],
   "source": [
    "thetas = np.arange(10)/10 * 2*np.pi"
   ]
  },
  {
   "cell_type": "code",
   "execution_count": 13,
   "metadata": {},
   "outputs": [],
   "source": [
    "center_x = 50\n",
    "center_y = 50\n",
    "\n",
    "xs = []\n",
    "ys = []\n",
    "radius = 10\n",
    "for theta in thetas:\n",
    "    xs.append(radius * np.cos(theta) + center_x)\n",
    "    ys.append(radius * np.sin(theta) + center_y)"
   ]
  },
  {
   "cell_type": "code",
   "execution_count": 14,
   "metadata": {},
   "outputs": [
    {
     "name": "stdout",
     "output_type": "stream",
     "text": [
      "    - capture_radius: 5.0\n",
      "      constraint: final\n",
      "      coupling: 1\n",
      "      observation_radius: 5.0\n",
      "      position:\n",
      "        fixed: [60.0,50.0]\n",
      "        spawn_rule: fixed\n",
      "      value: 1.0\n",
      "    - capture_radius: 5.0\n",
      "      constraint: final\n",
      "      coupling: 1\n",
      "      observation_radius: 5.0\n",
      "      position:\n",
      "        fixed: [58.09016994374947,55.877852522924734]\n",
      "        spawn_rule: fixed\n",
      "      value: 1.0\n",
      "    - capture_radius: 5.0\n",
      "      constraint: final\n",
      "      coupling: 1\n",
      "      observation_radius: 5.0\n",
      "      position:\n",
      "        fixed: [53.09016994374947,59.510565162951536]\n",
      "        spawn_rule: fixed\n",
      "      value: 1.0\n",
      "    - capture_radius: 5.0\n",
      "      constraint: final\n",
      "      coupling: 1\n",
      "      observation_radius: 5.0\n",
      "      position:\n",
      "        fixed: [46.90983005625053,59.510565162951536]\n",
      "        spawn_rule: fixed\n",
      "      value: 1.0\n",
      "    - capture_radius: 5.0\n",
      "      constraint: final\n",
      "      coupling: 1\n",
      "      observation_radius: 5.0\n",
      "      position:\n",
      "        fixed: [41.90983005625053,55.877852522924734]\n",
      "        spawn_rule: fixed\n",
      "      value: 1.0\n",
      "    - capture_radius: 5.0\n",
      "      constraint: final\n",
      "      coupling: 1\n",
      "      observation_radius: 5.0\n",
      "      position:\n",
      "        fixed: [40.0,50.0]\n",
      "        spawn_rule: fixed\n",
      "      value: 1.0\n",
      "    - capture_radius: 5.0\n",
      "      constraint: final\n",
      "      coupling: 1\n",
      "      observation_radius: 5.0\n",
      "      position:\n",
      "        fixed: [41.90983005625053,44.12214747707527]\n",
      "        spawn_rule: fixed\n",
      "      value: 1.0\n",
      "    - capture_radius: 5.0\n",
      "      constraint: final\n",
      "      coupling: 1\n",
      "      observation_radius: 5.0\n",
      "      position:\n",
      "        fixed: [46.90983005625053,40.489434837048464]\n",
      "        spawn_rule: fixed\n",
      "      value: 1.0\n",
      "    - capture_radius: 5.0\n",
      "      constraint: final\n",
      "      coupling: 1\n",
      "      observation_radius: 5.0\n",
      "      position:\n",
      "        fixed: [53.09016994374947,40.489434837048464]\n",
      "        spawn_rule: fixed\n",
      "      value: 1.0\n",
      "    - capture_radius: 5.0\n",
      "      constraint: final\n",
      "      coupling: 1\n",
      "      observation_radius: 5.0\n",
      "      position:\n",
      "        fixed: [58.09016994374947,44.122147477075266]\n",
      "        spawn_rule: fixed\n",
      "      value: 1.0\n"
     ]
    }
   ],
   "source": [
    "for x, y in zip(xs, ys):\n",
    "    poi_str = \\\n",
    "\"\"\"    - capture_radius: 5.0\n",
    "      constraint: final\n",
    "      coupling: 1\n",
    "      observation_radius: 5.0\n",
    "      position:\n",
    "        fixed: [\"\"\"+str(x)+\"\"\",\"\"\"+str(y)+\"\"\"]\n",
    "        spawn_rule: fixed\n",
    "      value: 1.0\"\"\"\n",
    "    print(poi_str)"
   ]
  },
  {
   "cell_type": "code",
   "execution_count": null,
   "metadata": {},
   "outputs": [],
   "source": []
  }
 ],
 "metadata": {
  "kernelspec": {
   "display_name": "influence",
   "language": "python",
   "name": "python3"
  },
  "language_info": {
   "codemirror_mode": {
    "name": "ipython",
    "version": 3
   },
   "file_extension": ".py",
   "mimetype": "text/x-python",
   "name": "python",
   "nbconvert_exporter": "python",
   "pygments_lexer": "ipython3",
   "version": "3.10.4"
  }
 },
 "nbformat": 4,
 "nbformat_minor": 2
}
