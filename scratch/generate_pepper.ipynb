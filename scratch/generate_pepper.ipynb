{
 "cells": [
  {
   "cell_type": "code",
   "execution_count": 2,
   "metadata": {},
   "outputs": [],
   "source": [
    "import numpy as np\n",
    "import matplotlib.pyplot as plt"
   ]
  },
  {
   "cell_type": "code",
   "execution_count": 3,
   "metadata": {},
   "outputs": [],
   "source": [
    "num_pois = 5\n",
    "hypotenuse = 20\n",
    "\n",
    "poi_positions = []\n",
    "for p in range(num_pois):\n",
    "    poi_positions.append([hypotenuse*np.cos(p*2*np.pi/num_pois), hypotenuse*np.sin(p*2*np.pi/num_pois)])\n",
    "poi_positions = np.array(poi_positions)"
   ]
  },
  {
   "cell_type": "code",
   "execution_count": 4,
   "metadata": {},
   "outputs": [
    {
     "data": {
      "text/plain": [
       "(-20.0, 20.0)"
      ]
     },
     "execution_count": 4,
     "metadata": {},
     "output_type": "execute_result"
    },
    {
     "data": {
      "image/png": "[encoded data removed]",
      "text/plain": [
       "<Figure size 640x480 with 1 Axes>"
      ]
     },
     "metadata": {},
     "output_type": "display_data"
    }
   ],
   "source": [
    "plt.plot(poi_positions[:, 0], poi_positions[:, 1], '.')\n",
    "plt.axis('square')\n",
    "plt.grid()\n",
    "plt.xlim([-hypotenuse, hypotenuse])\n",
    "plt.ylim([-hypotenuse, hypotenuse])\n"
   ]
  },
  {
   "cell_type": "code",
   "execution_count": 5,
   "metadata": {},
   "outputs": [
    {
     "name": "stdout",
     "output_type": "stream",
     "text": [
      "[[ 20.           0.        ]\n",
      " [  6.18033989  19.02113033]\n",
      " [-16.18033989  11.75570505]\n",
      " [-16.18033989 -11.75570505]\n",
      " [  6.18033989 -19.02113033]]\n"
     ]
    }
   ],
   "source": [
    "print(poi_positions)"
   ]
  },
  {
   "cell_type": "code",
   "execution_count": 6,
   "metadata": {},
   "outputs": [
    {
     "data": {
      "text/plain": [
       "(0.0, 50.0)"
      ]
     },
     "execution_count": 6,
     "metadata": {},
     "output_type": "execute_result"
    },
    {
     "data": {
      "image/png": "[encoded data removed]",
      "text/plain": [
       "<Figure size 640x480 with 1 Axes>"
      ]
     },
     "metadata": {},
     "output_type": "display_data"
    }
   ],
   "source": [
    "map_len = 50.0\n",
    "\n",
    "poi_positions_actual = poi_positions+hypotenuse+(map_len/2-hypotenuse)\n",
    "\n",
    "plt.plot(poi_positions_actual[:, 0], poi_positions_actual[:, 1], '.')\n",
    "plt.axis('square')\n",
    "plt.grid()\n",
    "plt.xlim([0, map_len])\n",
    "plt.ylim([0, map_len])"
   ]
  },
  {
   "cell_type": "code",
   "execution_count": 7,
   "metadata": {},
   "outputs": [
    {
     "name": "stdout",
     "output_type": "stream",
     "text": [
      "[[45.         25.        ]\n",
      " [31.18033989 44.02113033]\n",
      " [ 8.81966011 36.75570505]\n",
      " [ 8.81966011 13.24429495]\n",
      " [31.18033989  5.97886967]]\n"
     ]
    }
   ],
   "source": [
    "print(poi_positions_actual)"
   ]
  },
  {
   "cell_type": "code",
   "execution_count": 8,
   "metadata": {},
   "outputs": [
    {
     "data": {
      "text/plain": [
       "np.float64(94.04564036679571)"
      ]
     },
     "execution_count": 8,
     "metadata": {},
     "output_type": "execute_result"
    }
   ],
   "source": [
    "# Distance needed to traverse the entire polygon starting from one of the edges\n",
    "np.sum(np.linalg.norm(np.diff(poi_positions, axis=0), axis=1))"
   ]
  },
  {
   "cell_type": "code",
   "execution_count": 9,
   "metadata": {},
   "outputs": [
    {
     "name": "stdout",
     "output_type": "stream",
     "text": [
      "            - low_x: 40.0\n",
      "              high_x: 50.0\n",
      "              low_y: 20.0\n",
      "              high_y: 30.0\n",
      "            - low_x: 26.18033988749895\n",
      "              high_x: 36.180339887498945\n",
      "              low_y: 39.02113032590307\n",
      "              high_y: 49.02113032590307\n",
      "            - low_x: 3.8196601125010545\n",
      "              high_x: 13.819660112501055\n",
      "              low_y: 31.755705045849467\n",
      "              high_y: 41.75570504584947\n",
      "            - low_x: 3.8196601125010474\n",
      "              high_x: 13.819660112501047\n",
      "              low_y: 8.24429495415054\n",
      "              high_y: 18.24429495415054\n",
      "            - low_x: 26.180339887498945\n",
      "              high_x: 36.180339887498945\n",
      "              low_y: 0.9788696740969272\n",
      "              high_y: 10.978869674096927\n"
     ]
    }
   ],
   "source": [
    "square_len = 10.\n",
    "for poi_position in poi_positions_actual:\n",
    "    print('            - low_x: '+str(poi_position[0]-square_len/2))\n",
    "    print('              high_x: '+str(poi_position[0]+square_len/2))\n",
    "    print('              low_y: '+str(poi_position[1]-square_len/2))\n",
    "    print('              high_y: '+str(poi_position[1]+square_len/2))"
   ]
  },
  {
   "cell_type": "code",
   "execution_count": null,
   "metadata": {},
   "outputs": [],
   "source": []
  }
 ],
 "metadata": {
  "kernelspec": {
   "display_name": "influence",
   "language": "python",
   "name": "python3"
  },
  "language_info": {
   "codemirror_mode": {
    "name": "ipython",
    "version": 3
   },
   "file_extension": ".py",
   "mimetype": "text/x-python",
   "name": "python",
   "nbconvert_exporter": "python",
   "pygments_lexer": "ipython3",
   "version": "3.10.4"
  }
 },
 "nbformat": 4,
 "nbformat_minor": 2
}
