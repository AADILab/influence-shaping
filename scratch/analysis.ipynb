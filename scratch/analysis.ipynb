{
 "cells": [
  {
   "cell_type": "code",
   "execution_count": null,
   "metadata": {},
   "outputs": [],
   "source": [
    "\"\"\"Trying to figure out what is going on with the quartz random_10x10 trials where D-Indirect and G yield different results even though \n",
    "they should tehcnially give the same result\n",
    "\n",
    "I wasn't able to find anything wrong using this notebook... so onto the next debugging idea\n",
    "\"\"\"\n",
    "import pandas as pd\n",
    "from pathlib import Path\n",
    "from typing import List, Union\n",
    "import numpy as np\n",
    "from influence.plotting import plot_joint_trajectory, PlotArgs\n",
    "from influence.config import load_config"
   ]
  },
  {
   "cell_type": "code",
   "execution_count": 16,
   "metadata": {},
   "outputs": [],
   "source": [
    "# Start with trial 4 for D-Indirect gen 0. Is G even being calculated correctly? Does G when computed from the joint trajectory match with G in the fitness csv?\n",
    "fitness_df = pd.read_csv(\n",
    "    '~/influence-shaping/results/10_29_2024/quartz/1_rover_1_uav/random_pois_10x10/IndirectDifferenceAutomatic/trial_4/fitness.csv'\n",
    ")"
   ]
  },
  {
   "cell_type": "code",
   "execution_count": 17,
   "metadata": {},
   "outputs": [],
   "source": [
    "class Fit:\n",
    "    def __init__(self, team_fitness, rover_fitness, uav_fitness):\n",
    "        self.team = team_fitness\n",
    "        self.rover = rover_fitness\n",
    "        self.uav = uav_fitness\n",
    "\n",
    "def get_recorded_fitnesses(fitness_df: pd.DataFrame, team_id: Union[int|str], gen_id: int) -> Fit:\n",
    "    if isinstance(team_id, str) and team_id == 'aggregated':\n",
    "        return Fit(\n",
    "            team_fitness=fitness_df['team_fitness_aggregated'][gen_id],\n",
    "            rover_fitness=fitness_df['rover_0_'][gen_id],\n",
    "            uav_fitness=fitness_df['uav_0'][gen_id]  \n",
    "        )\n",
    "    elif isinstance(team_id, int) and team_id >= 0 and team_id < 10:\n",
    "        return Fit(\n",
    "            team_fitness=fitness_df['team_fitness_'+str(team_id)][gen_id],\n",
    "            rover_fitness=fitness_df['team_'+str(team_id)+'_rover_0'][gen_id],\n",
    "            uav_fitness=fitness_df['team_'+str(team_id)+'_uav_0'][gen_id]\n",
    "        )\n",
    "    else:\n",
    "        raise Exception(f\"team id must either be int of a team or 'aggeregated' to indicate the aggregated team fitness. team_id is {team_id}\")"
   ]
  },
  {
   "cell_type": "code",
   "execution_count": 18,
   "metadata": {},
   "outputs": [],
   "source": [
    "joint_traj = pd.read_csv(\n",
    "    '~/influence-shaping/results/10_29_2024/quartz/1_rover_1_uav/random_pois_10x10/IndirectDifferenceAutomatic/trial_4/gen_0/eval_team_0_joint_traj.csv'\n",
    ")"
   ]
  },
  {
   "cell_type": "code",
   "execution_count": 19,
   "metadata": {},
   "outputs": [
    {
     "data": {
      "image/png": "[encoded data removed]",
      "text/plain": [
       "<Figure size 640x480 with 1 Axes>"
      ]
     },
     "metadata": {},
     "output_type": "display_data"
    }
   ],
   "source": [
    "# Let's look at the joint trajectory here\n",
    "plot_joint_trajectory(\n",
    "    joint_traj_dir=\\\n",
    "        Path('~/influence-shaping/results/10_29_2024/quartz/1_rover_1_uav/random_pois_10x10/IndirectDifferenceAutomatic/trial_4/gen_0/eval_team_0_joint_traj.csv'),\n",
    "    individual_colors=False,\n",
    "    no_shading=False,\n",
    "    plot_args=PlotArgs(\n",
    "        title=None,\n",
    "        output=None,\n",
    "        xlim=None,\n",
    "        ylim=None,\n",
    "        xlabel=None,\n",
    "        ylabel=None,\n",
    "        silent=False\n",
    "    )\n",
    ")"
   ]
  },
  {
   "cell_type": "code",
   "execution_count": 20,
   "metadata": {},
   "outputs": [],
   "source": [
    "def joint_trajectory_is_valid(joint_traj: pd.DataFrame) -> bool:\n",
    "    valid = True\n",
    "    # First, let's just make sure that there are the correct number of hidden pois\n",
    "    column_names = joint_traj.columns.tolist()\n",
    "    for name in column_names:\n",
    "        if 'rover_poi' in name:\n",
    "            print('ERROR: Found rover poi in joint trajectory')\n",
    "            valid = False\n",
    "        if 'hidden_poi_' in name:\n",
    "            if int(name.split('_')[-2]) > 4:\n",
    "                print('ERROR: Too many pois')\n",
    "                valid = False\n",
    "\n",
    "    expected_names = ['hidden_poi_'+str(i)+'_x' for i in range(5)] + ['hidden_poi_'+str(i)+'_y' for i in range(5)]\n",
    "    for expected in expected_names:\n",
    "        if expected not in column_names:\n",
    "            print(f'ERROR: Missing label {expected} from joint trajectory')\n",
    "            valid = False\n",
    "\n",
    "    # Before going further, I'm going to make sure the pois don't somehow magically move throughout the episode\n",
    "    for i in range(5):\n",
    "        poi_x_t0 = joint_traj['hidden_poi_'+str(i)+'_x'][0]\n",
    "        poi_y_t0 = joint_traj['hidden_poi_'+str(i)+'_y'][0]\n",
    "        for s, (poi_x, poi_y) in enumerate(zip(joint_traj['hidden_poi_'+str(i)+'_x'][1:], joint_traj['hidden_poi_'+str(i)+'_y'][1:])):\n",
    "            if poi_x != poi_x_t0 or poi_y != poi_y_t0:\n",
    "                print(f\"ERROR: Mismatch for poi {i} at step {s+1}\")\n",
    "                valid = False\n",
    "\n",
    "    # Make sure that pois spawn within their respective boundaries\n",
    "    poi_bounds = [\n",
    "        {\n",
    "            'low_x': 40.0,\n",
    "            'high_x': 50.0,\n",
    "            'low_y': 20.0,\n",
    "            'high_y': 30.0\n",
    "        },\n",
    "        {\n",
    "            'low_x': 26.18033988749895,\n",
    "            'high_x': 36.180339887498945,\n",
    "            'low_y': 39.02113032590307,\n",
    "            'high_y': 49.02113032590307\n",
    "        },\n",
    "        {\n",
    "            'low_x': 3.8196601125010545,\n",
    "            'high_x': 13.819660112501055,\n",
    "            'low_y': 31.755705045849467,\n",
    "            'high_y': 41.75570504584947\n",
    "        },\n",
    "        {\n",
    "            'low_x': 3.8196601125010474,\n",
    "            'high_x': 13.819660112501047,\n",
    "            'low_y': 8.24429495415054,\n",
    "            'high_y': 18.24429495415054\n",
    "        },\n",
    "        {\n",
    "            'low_x': 26.180339887498945,\n",
    "            'high_x': 36.180339887498945,\n",
    "            'low_y': 0.9788696740969272,\n",
    "            'high_y': 10.978869674096927\n",
    "        }\n",
    "    ]\n",
    "    for i in range(5):\n",
    "        poi_x, poi_y = joint_traj['hidden_poi_'+str(i)+'_x'][0], joint_traj['hidden_poi_'+str(i)+'_y'][0]\n",
    "        if poi_x > poi_bounds[i]['high_x'] or poi_x < poi_bounds[i]['low_x']:\n",
    "            print(f\"ERROR: poi x position is out of bounds\")\n",
    "            valid = False\n",
    "        if poi_y > poi_bounds[i]['high_y'] or poi_y < poi_bounds[i]['low_y']:\n",
    "            print(f\"ERROR: poi y position is out of bounds\")\n",
    "            valid = False\n",
    "    return valid\n",
    "\n",
    "# No printouts, so we should be fine to continue with the assumption that pois don't move and we have the correct number of pois"
   ]
  },
  {
   "cell_type": "code",
   "execution_count": 21,
   "metadata": {},
   "outputs": [],
   "source": [
    "# Let's step through the rover's path and see how close it got to the POI\n",
    "# NOTE: Poi's capture radius is set to 1,000 so there should be a reward associated with each poi that is accounted for in G\n",
    "\n",
    "def compute_G(joint_traj):\n",
    "    poi_positions = [[joint_traj['hidden_poi_'+str(i)+'_x'][0], joint_traj['hidden_poi_'+str(i)+'_y'][0]] for i in range(5)]\n",
    "\n",
    "    # First get the minimum distance of the rover to each poi\n",
    "    min_dists = [None]*5\n",
    "    for rover_x, rover_y in zip(joint_traj['rover_0_x'], joint_traj['rover_0_y']):\n",
    "        for i, (poi_x, poi_y) in enumerate(poi_positions):\n",
    "            dist = np.linalg.norm(np.array([rover_x, rover_y]) - np.array([poi_x, poi_y]))\n",
    "            if min_dists[i] is None or dist < min_dists[i]:\n",
    "                min_dists[i] = dist\n",
    "\n",
    "    # Then compute the reward for each poi, and add them up to get G\n",
    "    G = 0\n",
    "    for dist in min_dists:\n",
    "        G += 1/max(dist, 1.0)\n",
    "    return G\n",
    "\n",
    "def recorded_fitness_is_correct(joint_traj: pd.DataFrame, recorded_fitnesses: Fit, trial_id: int, team_id: int, gen_id: int) -> bool:\n",
    "    correct = True\n",
    "\n",
    "    G = compute_G(joint_traj)\n",
    "    # Now compare this G with the fitnesses recorded in the csvs\n",
    "    for fitness, name in zip([recorded_fitnesses.team, recorded_fitnesses.rover, recorded_fitnesses.uav], ['team', 'rover', 'uav']):\n",
    "        if not np.isclose(G, fitness): # NOTE: I may have to replace this in the future with np.isclose()\n",
    "            correct = False\n",
    "            print(f\"ERROR: G is not equal to the recorded fitness\\n\" + \\\n",
    "                f\"G is {G}, fitness is {fitness}\\n\" + \\\n",
    "                f\"Incorrect fitness is from {name}\\n\" + \\\n",
    "                f\"trial_id: {trial_id} | team_id: {team_id} | gen_id: {gen_id}\"\n",
    "            )\n",
    "    \n",
    "    return correct"
   ]
  },
  {
   "cell_type": "code",
   "execution_count": 22,
   "metadata": {},
   "outputs": [],
   "source": [
    "# Let's use these nice functions to check every team's joint trajectory in one trial\n",
    "def trial_is_correct(trial_dir: Path, trial_id: int, gen_save_frequency: int, num_evaluation_teams: int, num_generations: int):\n",
    "    correct = True\n",
    "\n",
    "    fitness_dir = trial_dir/'fitness.csv'\n",
    "    fitness_df = pd.read_csv(fitness_dir)\n",
    "\n",
    "    for gen_id in list(range(num_generations))[::gen_save_frequency]:\n",
    "        for team_id in range(num_evaluation_teams):\n",
    "            jt_dir = trial_dir/('gen_'+str(gen_id))/('eval_team_'+str(team_id)+'_joint_traj.csv')\n",
    "            joint_traj = pd.read_csv(jt_dir)\n",
    "            recorded_fitnesses = get_recorded_fitnesses(fitness_df, team_id, gen_id)\n",
    "            if not (joint_trajectory_is_valid(joint_traj) and recorded_fitness_is_correct(joint_traj, recorded_fitnesses, trial_id=trial_id, team_id=team_id, gen_id=gen_id)):\n",
    "                correct = False\n",
    "    \n",
    "    # If an error is found, then this trial is not correct\n",
    "    # If no error is found, then this trial is correct\n",
    "    return correct"
   ]
  },
  {
   "cell_type": "code",
   "execution_count": 23,
   "metadata": {},
   "outputs": [],
   "source": [
    "def all_trials_are_correct(config_dir: Path):\n",
    "    correct = True\n",
    "\n",
    "    # Get everything we need from the config\n",
    "    config = load_config(config_dir)\n",
    "    num_trials = config['experiment']['num_trials']\n",
    "    gen_save_frequency = config['data']['save_trajectories']['num_gens_between_save']\n",
    "    num_evaluation_teams = config['ccea']['evaluation']['multi_evaluation']['num_evaluations']\n",
    "    num_generations = config['ccea']['num_generations']\n",
    "\n",
    "    # Now check all the trials\n",
    "    parent_dir = config_dir.parent\n",
    "    for trial_id in range(num_trials):\n",
    "        if not trial_is_correct(\n",
    "            trial_dir=parent_dir/('trial_'+str(trial_id)),\n",
    "            trial_id=trial_id,\n",
    "            gen_save_frequency=gen_save_frequency,\n",
    "            num_evaluation_teams=num_evaluation_teams,\n",
    "            num_generations=num_generations\n",
    "            ):\n",
    "            correct = False\n",
    "    \n",
    "    return correct"
   ]
  },
  {
   "cell_type": "code",
   "execution_count": 24,
   "metadata": {},
   "outputs": [],
   "source": [
    "def experiments_are_correct(config_dirs: List[Path]):\n",
    "    error_found = False\n",
    "    for config_dir in config_dirs:\n",
    "        if not all_trials_are_correct(config_dir):\n",
    "            error_found = True\n",
    "    return not error_found"
   ]
  },
  {
   "cell_type": "code",
   "execution_count": 25,
   "metadata": {},
   "outputs": [],
   "source": [
    "# Let's check this for the trials with D-Indirect first\n",
    "check_d_indirect = all_trials_are_correct(\n",
    "    config_dir=Path('~/influence-shaping/results/10_29_2024/quartz/1_rover_1_uav/random_pois_10x10/IndirectDifferenceAutomatic/config.yaml')\n",
    ")"
   ]
  },
  {
   "cell_type": "code",
   "execution_count": 27,
   "metadata": {},
   "outputs": [],
   "source": [
    "# Now check the trials that used G\n",
    "check_g = all_trials_are_correct(\n",
    "    config_dir=Path('~/influence-shaping/results/10_29_2024/quartz/1_rover_1_uav/random_pois_10x10/Global/config.yaml')\n",
    ")"
   ]
  },
  {
   "cell_type": "code",
   "execution_count": 28,
   "metadata": {},
   "outputs": [
    {
     "name": "stdout",
     "output_type": "stream",
     "text": [
      "True True\n"
     ]
    }
   ],
   "source": [
    "print(check_d_indirect, check_g)"
   ]
  },
  {
   "cell_type": "markdown",
   "metadata": {},
   "source": [
    "#### The following cells were helping me debug a problem that came from this notebook, NOT from the results or the influence library code"
   ]
  },
  {
   "cell_type": "code",
   "execution_count": null,
   "metadata": {},
   "outputs": [],
   "source": [
    "# Investigating this discrepancy from IndirectDifferenceAutomatic\n",
    "\n",
    "# ERROR: G is not equal to the recorded fitness\n",
    "# G is 1.9344744964694005, fitness is 1.200821119854093\n",
    "# Incorrect fitness is from team\n",
    "# trial_id: 0 | team_id: 6 | gen_id: 0\n",
    "\n",
    "# Let's see the joint trajectory in question\n",
    "# Let's look at the joint trajectory here\n",
    "joint_traj_dir = Path('~/influence-shaping/results/10_29_2024/quartz/1_rover_1_uav/random_pois_10x10/IndirectDifferenceAutomatic/trial_0/gen_0/eval_team_6_joint_traj.csv')\n",
    "plot_joint_trajectory(\n",
    "    joint_traj_dir=joint_traj_dir,\n",
    "    individual_colors=False,\n",
    "    no_shading=False,\n",
    "    plot_args=PlotArgs(\n",
    "        title=None,\n",
    "        output=None,\n",
    "        xlim=None,\n",
    "        ylim=None,\n",
    "        xlabel=None,\n",
    "        ylabel=None,\n",
    "        silent=False\n",
    "    )\n",
    ")"
   ]
  },
  {
   "cell_type": "code",
   "execution_count": null,
   "metadata": {},
   "outputs": [],
   "source": [
    "# Let's grab the corresponding fitness\n",
    "fit = get_recorded_fitnesses(\n",
    "    fitness_df=pd.read_csv(Path('~/influence-shaping/results/10_29_2024/quartz/1_rover_1_uav/random_pois_10x10/IndirectDifferenceAutomatic/trial_0/fitness.csv')),\n",
    "    team_id=6,\n",
    "    gen_id=0\n",
    ")\n",
    "print(fit.team, fit.rover, fit.uav)"
   ]
  },
  {
   "cell_type": "code",
   "execution_count": null,
   "metadata": {},
   "outputs": [],
   "source": [
    "# Now let's compute G\n",
    "G = compute_G(joint_traj=pd.read_csv(joint_traj_dir))\n",
    "G"
   ]
  }
 ],
 "metadata": {
  "kernelspec": {
   "display_name": "influence",
   "language": "python",
   "name": "python3"
  },
  "language_info": {
   "codemirror_mode": {
    "name": "ipython",
    "version": 3
   },
   "file_extension": ".py",
   "mimetype": "text/x-python",
   "name": "python",
   "nbconvert_exporter": "python",
   "pygments_lexer": "ipython3",
   "version": "3.10.4"
  }
 },
 "nbformat": 4,
 "nbformat_minor": 2
}
