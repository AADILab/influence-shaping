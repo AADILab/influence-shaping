{
 "cells": [
  {
   "cell_type": "code",
   "execution_count": 10,
   "metadata": {},
   "outputs": [
    {
     "data": {
      "text/plain": [
       "True"
      ]
     },
     "execution_count": 10,
     "metadata": {},
     "output_type": "execute_result"
    }
   ],
   "source": [
    "from pathlib import Path\n",
    "import os\n",
    "import pprint\n",
    "import pandas as pd\n",
    "\n",
    "def series_equal(series_a, series_b):\n",
    "    if len(series_a) != len(series_b):\n",
    "        return False\n",
    "    for element_a, element_b in zip(series_a, series_b):\n",
    "        if element_a != element_b:\n",
    "            return False\n",
    "    return True\n",
    "\n",
    "def get_fitness_csv_dirs(root_dir: Path):\n",
    "    fitness_csv_dirs = []\n",
    "    for root, _, files in os.walk(root_dir.expanduser()):\n",
    "        if 'fitness.csv' in files and Path(root)/'fitness.csv' not in fitness_csv_dirs:\n",
    "            fitness_csv_dirs.append(Path(root)/'fitness.csv')\n",
    "    fitness_csv_dirs.sort()\n",
    "    return fitness_csv_dirs\n",
    "\n",
    "def filter_for_folder(dirs, folder_name):\n",
    "    new_dirs = []\n",
    "    for dir_ in dirs:\n",
    "        if folder_name in dir_.parts:\n",
    "            new_dirs.append(dir_)\n",
    "    return new_dirs\n",
    "\n",
    "def filter_for_multiple_folders(dirs, folder_names):\n",
    "    if len(folder_names) == 0:\n",
    "        return dirs\n",
    "    else:\n",
    "        return filter_for_multiple_folders(filter_for_folder(dirs, folder_names[0]), folder_names[1:])\n",
    "\n",
    "class TeamFit():\n",
    "    def __init__(self, rover, uav, team):\n",
    "        self.rover = rover\n",
    "        self.uav = uav\n",
    "        self.team = team\n",
    "\n",
    "def check_fitness_df(fitness_df):\n",
    "    \"\"\"Return true if agent fitnesses match team fitness. Return false if not\"\"\"\n",
    "    # Look through the header to identify how many teams are in here\n",
    "    names = fitness_df.columns\n",
    "    num_teams = int(names[-3][-1]) # and the aggregated (we'll put that first)\n",
    "\n",
    "    # Clump up each team into it's own object including rover's fitness, uav fitness, and team fitness\n",
    "    # (Although technically, there is no temporal relationship between team n's fitness from one generation\n",
    "    # to the next. The numbering is just for convenience, but each team is completely distinct from the team\n",
    "    # generated at the previous generation with, even though they share the same id number)\n",
    "    team_fits = [\n",
    "        TeamFit(\n",
    "            rover = fitness_df['rover_0_'],\n",
    "            uav = fitness_df['uav_0'],\n",
    "            team = fitness_df['team_fitness_aggregated']\n",
    "        )\n",
    "    ] + [\n",
    "        TeamFit(\n",
    "            rover = fitness_df['team_'+str(i)+'_rover_0'],\n",
    "            uav = fitness_df['team_'+str(i)+'_uav_0'],\n",
    "            team = fitness_df['team_fitness_'+str(i)]\n",
    "        )\n",
    "        for i in range(num_teams)\n",
    "    ]\n",
    "\n",
    "    # Now check that each team fit has a matching value for each rover uav and team fit\n",
    "    for team_fit in team_fits:\n",
    "        if not series_equal(team_fit.team, team_fit.rover) or not series_equal(team_fit.team, team_fit.uav):\n",
    "            return False\n",
    "    return True\n",
    "\n",
    "def check_multiple_fitness_dfs(fitness_dfs):\n",
    "    \"\"\"Return True if every fitness csv checked contains no errors in fitness. False if there are errors\"\"\"\n",
    "    for fitness_df in fitness_dfs:\n",
    "        if not check_fitness_df(fitness_df):\n",
    "            return False\n",
    "    return True\n",
    "\n",
    "# Comb through all of the results in quartz\n",
    "fitness_csv_dirs = get_fitness_csv_dirs(root_dir=Path('~/influence-shaping/results/10_29_2024/quartz'))\n",
    "\n",
    "# pprint.pprint(fitness_csv_dirs)\n",
    "\n",
    "# Focus in on the 1_rover_1_uav/random_pois_10x10 trials using D-Indirect and G\n",
    "dirs_of_interest = filter_for_multiple_folders(fitness_csv_dirs, ['1_rover_1_uav', 'random_pois_10x10', 'IndirectDifferenceAutomatic']) + \\\n",
    "    filter_for_multiple_folders(fitness_csv_dirs, ['1_rover_1_uav', 'random_pois_10x10', 'Global'])\n",
    "\n",
    "# pprint.pprint(dirs_of_interest)\n",
    "\n",
    "# Get each fitness.csv file\n",
    "fitness_dfs = [pd.read_csv(dir_) for dir_ in dirs_of_interest]\n",
    "\n",
    "# Now check all of them\n",
    "check_multiple_fitness_dfs(fitness_dfs)\n"
   ]
  },
  {
   "cell_type": "code",
   "execution_count": null,
   "metadata": {},
   "outputs": [
    {
     "data": {
      "text/plain": [
       "False"
      ]
     },
     "execution_count": 13,
     "metadata": {},
     "output_type": "execute_result"
    }
   ],
   "source": [
    "# Sanity check. This should return False because D is not equal to G for uavs\n",
    "difference_dirs = filter_for_multiple_folders(fitness_csv_dirs, ['1_rover_1_uav', 'random_pois_10x10', 'Difference'])\n",
    "difference_fitness_dirs = [pd.read_csv(dir_) for dir_ in difference_dirs]\n",
    "check_multiple_fitness_dfs(difference_fitness_dirs)"
   ]
  },
  {
   "cell_type": "code",
   "execution_count": null,
   "metadata": {},
   "outputs": [],
   "source": []
  }
 ],
 "metadata": {
  "kernelspec": {
   "display_name": "influence",
   "language": "python",
   "name": "python3"
  },
  "language_info": {
   "codemirror_mode": {
    "name": "ipython",
    "version": 3
   },
   "file_extension": ".py",
   "mimetype": "text/x-python",
   "name": "python",
   "nbconvert_exporter": "python",
   "pygments_lexer": "ipython3",
   "version": "3.10.4"
  }
 },
 "nbformat": 4,
 "nbformat_minor": 2
}
